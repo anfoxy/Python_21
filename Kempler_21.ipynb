{
 "cells": [
  {
   "cell_type": "markdown",
   "metadata": {},
   "source": [
    "# Уравнение Кеплера\n",
    "## Постановка задачи\n",
    "\n",
    "\n",
    "Уравнение Кеплера для вычисления орбиты имеет вид 𝑀=𝐸−𝜀sin𝐸,\n",
    "где 𝑀 – средняя аномалия, 𝐸 – эксцентрическая аномалия, 𝜀 – эксцентриситет орбиты. Пусть 𝑀=24.851090 , 𝜀=0.1.\n",
    "\n",
    "Для примера возьмем планету Марс, т.к. примерно равные эксцентриситеты(используется только для построения орбиты).\n",
    "\n",
    "1) Построим орбиту, используя метод последовательных приближений найдем E.\n",
    "\n",
    "2) Найдем E, используя scipy.optimize.brentq.\n",
    "\n",
    "3) Вычислим E с помощью формулы:\n",
    "\n",
    "$$E = M + 2\\sum_{m=1}^{\\infty} \\frac{1}{m} J_m(m\\varepsilon) \\sin(mM)$$    \n",
    "где $J_m(x)$ – функция Бесселя$1$-го рода порядка $m$. Найдем $E$ по предыдущей формуле, используя равенство\n",
    "$$J_m(m\\varepsilon) = \\sum_{n=0}^{\\infty} \\frac{(-1)^n (m\\varepsilon/2)^{2n+m}}{n!(m+n)!}.$$\n"
   ]
  },
  {
   "cell_type": "code",
   "execution_count": 1,
   "metadata": {},
   "outputs": [],
   "source": [
    "# Импорт библиотек и модулей\n",
    "from scipy.optimize import brentq\n",
    "from math import sin, cos, sqrt, factorial\n",
    "from matplotlib.pyplot import figure, title, plot, show\n",
    "from scipy.special import jv"
   ]
  },
  {
   "cell_type": "markdown",
   "metadata": {},
   "source": [
    "\n",
    "Вывод уравнения Кеплера\n",
    "$$sqrt(1-e^2)$$\n",
    "окружность. Здесь e — эксцентриситет.\n",
    "\n",
    "Найдем теперь зависимость этой площади от положения небесного тела на орбите, то есть от величины радиус-вектора $r$ и истинной аномалии — угла между перигелием и небесным телом, если смотреть с Солнца.\n",
    "\n",
    "Для этого введем дополнительную переменную — эксцентрическую аномалию $E$. Направим ось $x$ от Солнца (начала координат), которое находится в одном из фокусов эллипса, в сторону перигелия по линии апсид (прямой, соединяющей перицентр с апоцентром). Создадим также вспомогательную окружность с радиусом, равным большой полуоси эллипса.\n",
    "\n",
    "Абсцисса небесного тела в точке $P$ будет равна\n",
    "\n",
    "$$x=cos(E)-a*e$$\n",
    "\n",
    "ордината будет, соответственно, равна\n",
    "\n",
    "$$y=asin(E)sqrt(1-e^2)$$\n",
    "\n",
    "Таким образом, получаем\n",
    "\n",
    "$$x=rcos(v)=acos(E)-e$$\n",
    "\n",
    "$$y=rsin(v)=asin(E)*sqrt(1-e^2)$$\n",
    "\n",
    "Для вычисления площади $S$ рассмотрим вспомогательные фигуры: сектор окружности $P'-O-Per$:\n",
    "\n",
    "$$S1=a^2*E/2$$\n",
    "\n",
    "Сектор эллипса $P-O-Per$:\n",
    "\n",
    "$$S2=S1*sqrt(1-e^2)$$\n",
    "\n",
    "Треугольник $O-O'-P$:\n",
    "\n",
    "$$S3=1/2(yae)=1/2a^2esinE*sqrt(1-e^2)$$\n",
    "\n",
    "Сектор $-O'-Per$:\n",
    "\n",
    "$$S=S2-S3$$\n",
    "\n",
    "Отсюда, прощадь $S$ равна:\n",
    "\n",
    "$$S(t)=1/2a^2sqrt(1-e^2)(E-esin(E))$$\n",
    "\n",
    "Сравнивая это выражение с выведенным ранее из второго закона Кеплера, получаем:\n",
    "\n",
    "$$M(t)=E(t)-e*sin(E(t))$$\n",
    "\n",
    "где $M(t)=2pit/T$\n"
   ]
  },
  {
   "cell_type": "code",
   "execution_count": 2,
   "metadata": {},
   "outputs": [],
   "source": [
    "# Исходные данные\n",
    "A = -30\n",
    "B = 30\n",
    "N = 360\n",
    "Eps = 0.1\n",
    "M = 24.851090\n",
    "a = 1496e5*1.52\n",
    "m = 10\n",
    "n = 10\n",
    "\n",
    "N = int(N)"
   ]
  },
  {
   "cell_type": "code",
   "execution_count": 3,
   "metadata": {},
   "outputs": [],
   "source": [
    "# Функция средней аномалии\n",
    "def e(e_old):\n",
    "    return e_old - M - Eps*sin(e_old)"
   ]
  },
  {
   "cell_type": "code",
   "execution_count": 4,
   "metadata": {},
   "outputs": [
    {
     "data": {
      "image/png": "[encoded data removed]",
      "text/plain": [
       "<Figure size 432x288 with 1 Axes>"
      ]
     },
     "metadata": {
      "needs_background": "light"
     },
     "output_type": "display_data"
    }
   ],
   "source": [
    "# Построение орбиты\n",
    "r = [i for i in range(0, N)]\n",
    "dx = [a*cos(i)-Eps for i in r]\n",
    "dy = [a*sin(i)*sqrt(1-Eps**0.5) for i in r]\n",
    "fig1 = figure()\n",
    "graph1 = plot(dx, dy)\n",
    "title('Орбита')\n",
    "show(graph1)"
   ]
  },
  {
   "cell_type": "markdown",
   "metadata": {},
   "source": [
    "Рассчитаем и приведем зависимость аномалии:"
   ]
  },
  {
   "cell_type": "code",
   "execution_count": 5,
   "metadata": {},
   "outputs": [],
   "source": [
    "x = [((B-A)/N)*i for i in range(N)]\n",
    "M0 = [e(x[i]) for i in range(N)]"
   ]
  },
  {
   "cell_type": "markdown",
   "metadata": {},
   "source": [
    "Вычислим $E$ методом последовательных приближений:\n",
    "$$M=E-e*sin(E)$$\n",
    "\n",
    "$$Е = М + e*sin E$$\n",
    "\n",
    "В правую часть уравнения вместо $Е$ подставляется $М$ и находится\n",
    "\n",
    "$$Е1 = М + e sin М$$\n",
    "\n",
    "Затем в правую часть уравнения вместо $Е$ подставляется $Е1$ и находится $Е2$ и так далее\n",
    "\n",
    "$$Е(k+1)= М + e*sin Ek$$\n",
    "\n",
    "Вычислим $E$ при помощи scipy.optimize.brentq:"
   ]
  },
  {
   "cell_type": "code",
   "execution_count": 6,
   "metadata": {},
   "outputs": [],
   "source": [
    "E1 = brentq(e, A, B)"
   ]
  },
  {
   "cell_type": "markdown",
   "metadata": {},
   "source": [
    "Вычислим $Е$ при помощи метода последовательных приближений с использованием встроенной функции Бесселя"
   ]
  },
  {
   "cell_type": "code",
   "execution_count": 7,
   "metadata": {},
   "outputs": [],
   "source": [
    "E2 = list()\n",
    "for i in range(1, m+1):\n",
    "    E2.append(1/i*jv(i, Eps)*sin(i*M))\n",
    "E2 = M + 2*sum(E2)"
   ]
  },
  {
   "cell_type": "markdown",
   "metadata": {},
   "source": [
    "Вычислим Е при помощи метода последовательных приближений с использованием формулы для функции Бесселя"
   ]
  },
  {
   "cell_type": "code",
   "execution_count": 8,
   "metadata": {},
   "outputs": [],
   "source": [
    "E3 = list()\n",
    "for i in range(1, m+1):\n",
    "    Jv = [((-1)**j*((i*Eps)/2)**(2*j+i))/(factorial(j)*factorial(i+j)) for j in range(n)]\n",
    "    Jv = sum(Jv)\n",
    "    E3.append(1/i*Jv*sin(i*M))\n",
    "E3 = M + 2*sum(E3)"
   ]
  },
  {
   "cell_type": "code",
   "execution_count": 9,
   "metadata": {},
   "outputs": [
    {
     "name": "stdout",
     "output_type": "stream",
     "text": [
      "Значения:\n",
      "   * E1 = 24.820357182542907;\n",
      "   * E2 = 24.822653088245808;\n",
      "   * E3 = 24.82035718254295;\n",
      "\n"
     ]
    }
   ],
   "source": [
    "print('Значения:\\n'\n",
    "      '   * E1 = ' + str(E1) + ';\\n'\n",
    "      '   * E2 = ' + str(E2) + ';\\n'\n",
    "      '   * E3 = ' + str(E3) + ';\\n'\n",
    "      )"
   ]
  },
  {
   "cell_type": "code",
   "execution_count": 10,
   "metadata": {},
   "outputs": [
    {
     "data": {
      "image/png": "[encoded data removed]",
      "text/plain": [
       "<Figure size 432x288 with 1 Axes>"
      ]
     },
     "metadata": {
      "needs_background": "light"
     },
     "output_type": "display_data"
    }
   ],
   "source": [
    "# Создание и вывод графиков\n",
    "fig2 = figure()\n",
    "graph2 = plot(x, M0)\n",
    "title('Зависимость аномалии')\n",
    "show(graph2)\n"
   ]
  },
  {
   "cell_type": "markdown",
   "metadata": {},
   "source": [
    "## Вывод\n",
    "\n",
    "1) Все 3 способа дали практически идентичный результат(погрешность = 10^(-9))\n",
    "\n",
    "2) Самый долгий способ - нахождение эксцентрической аномалии при помощи метода последовательных приближений с использованием формулы для функции Бесселя. Остальные два способа работают с примерно одинаковым быстродействием."
   ]
  },
  {
   "cell_type": "code",
   "execution_count": null,
   "metadata": {},
   "outputs": [],
   "source": []
  }
 ],
 "metadata": {
  "kernelspec": {
   "display_name": "Python 3",
   "language": "python",
   "name": "python3"
  },
  "language_info": {
   "codemirror_mode": {
    "name": "ipython",
    "version": 3
   },
   "file_extension": ".py",
   "mimetype": "text/x-python",
   "name": "python",
   "nbconvert_exporter": "python",
   "pygments_lexer": "ipython3",
   "version": "3.7.6"
  }
 },
 "nbformat": 4,
 "nbformat_minor": 2
}
